{
 "cells": [
  {
   "cell_type": "markdown",
   "metadata": {},
   "source": [
    "<hr style=\"border-width:4px; border-color:coral\"></hr>\n",
    "\n",
    "# Installing Anaconda Python\n",
    "<hr style=\"border-width:4px; border-color:coral\"></hr>\n",
    "\n",
    "\n",
    "Here are links to an excellent set of tutorials for getting the Anaconda Python installed on your system. \n",
    "\n",
    "[Installation for Windows 10](https://www.youtube.com/watch?v=5mDYijMfSzs)\n",
    "\n",
    "[Installation for Linux](https://www.youtube.com/watch?v=DY0DB_NwEu0&t=3s)\n",
    "\n",
    "[Installation for OSX](https://www.youtube.com/watch?v=daVgEXjv6DE&t=10s)\n",
    "\n",
    "The site will explain exactly what Anaconda is, how to download it, and install it, and how to launch a Jupyter notebook from your own laptop. \n",
    "\n",
    "The video is about two years old, so some version numbers may not be current.  \n",
    "* Install Python 3.X (the most current release of Python). \n",
    "* If you do not have \"administration privileges\" on your laptop/desktop, install for \"you only\".  \n",
    "* The videos are done by the same person, but it might be useful to watch each video, since the narrator includes slightly different comments in each video. \n",
    "* We will not be using \"JupyterLab\", \"Spyder\" or Visual Studio code.  You are of course free to install these, but we are mainly interested in the Jupyter notebooks. \n"
   ]
  },
  {
   "cell_type": "code",
   "execution_count": null,
   "metadata": {},
   "outputs": [],
   "source": []
  }
 ],
 "metadata": {
  "kernelspec": {
   "display_name": "Python 3",
   "language": "python",
   "name": "python3"
  },
  "language_info": {
   "codemirror_mode": {
    "name": "ipython",
    "version": 3
   },
   "file_extension": ".py",
   "mimetype": "text/x-python",
   "name": "python",
   "nbconvert_exporter": "python",
   "pygments_lexer": "ipython3",
   "version": "3.7.4"
  }
 },
 "nbformat": 4,
 "nbformat_minor": 2
}
