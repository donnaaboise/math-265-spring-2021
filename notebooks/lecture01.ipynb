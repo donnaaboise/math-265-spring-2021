{
 "cells": [
  {
   "cell_type": "code",
   "execution_count": 1,
   "metadata": {},
   "outputs": [
    {
     "name": "stdout",
     "output_type": "stream",
     "text": [
      "Using matplotlib backend: nbAgg\n",
      "Populating the interactive namespace from numpy and matplotlib\n"
     ]
    }
   ],
   "source": [
    "%matplotlib notebook\n",
    "%pylab"
   ]
  },
  {
   "cell_type": "markdown",
   "metadata": {
    "slideshow": {
     "slide_type": "slide"
    }
   },
   "source": [
    "# Drawing a rectangle\n",
    "<hr style=\"border-width:4px; border-color:coral\"</hr>\n",
    "\n",
    "Mathematical statement : \n",
    "\n",
    "Plot the region in the 2d plane described the set of all $(x,y)$ points satisfing the inequalities\n",
    "\n",
    "\\begin{eqnarray*}\n",
    "3 \\le x \\le 5 \\\\\n",
    "-1 \\le y \\le 4\n",
    "\\end{eqnarray*}\n",
    "\n",
    "**Mathematical approach**\n",
    "* Identify the region\n",
    "* Describe to a friend how you would tell her to draw the region.  What \"input\" do you need to give her? \n",
    "\n",
    "\n"
   ]
  },
  {
   "cell_type": "markdown",
   "metadata": {},
   "source": [
    "## Computational approach\n",
    "\n",
    "* What mathematical elements need to get translated? \n",
    "\n",
    "* Write a short code fragment that plots the region\n",
    "* Add some bells and whistles (color the region red, highlight vertices).  "
   ]
  },
  {
   "cell_type": "code",
   "execution_count": null,
   "metadata": {
    "slideshow": {
     "slide_type": "-"
    }
   },
   "outputs": [],
   "source": [
    "figure(1)\n",
    "clf()\n",
    "\n",
    "# Problem statement : Input given data\n",
    "xlow = 3\n",
    "xhi = 5\n",
    "ylow = -1\n",
    "yhi = 4\n",
    "\n",
    "# Mathematical approach : Create a list of x values and a list of y values\n",
    "xvals = [xlow,xhi,xhi,xlow,xlow]   # \"List\" is like an array. \n",
    "yvals = [ylow,ylow,yhi,yhi,ylow]\n",
    "\n",
    "# List points in order, going in a clockwise order. \n",
    "plot([xlow,xhi,xhi,xlow,xlow],[ylow,ylow,yhi,yhi,ylow],'k.-')\n",
    "\n",
    "# Bells and whistles\n",
    "axis([2,6,-2,5])\n",
    "fill([xlow,xhi,xhi,xlow,xlow],[ylow,ylow,yhi,yhi,ylow],'r')\n",
    "gca().set_aspect('equal')\n",
    "\n",
    "\n",
    "show()"
   ]
  }
 ],
 "metadata": {
  "celltoolbar": "Slideshow",
  "kernelspec": {
   "display_name": "Python 3",
   "language": "python",
   "name": "python3"
  },
  "language_info": {
   "codemirror_mode": {
    "name": "ipython",
    "version": 3
   },
   "file_extension": ".py",
   "mimetype": "text/x-python",
   "name": "python",
   "nbconvert_exporter": "python",
   "pygments_lexer": "ipython3",
   "version": "3.7.4"
  }
 },
 "nbformat": 4,
 "nbformat_minor": 2
}
