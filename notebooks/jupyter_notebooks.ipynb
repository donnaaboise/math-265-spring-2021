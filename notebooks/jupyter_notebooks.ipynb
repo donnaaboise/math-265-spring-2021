{
 "cells": [
  {
   "cell_type": "code",
   "execution_count": 1,
   "metadata": {
    "slideshow": {
     "slide_type": "skip"
    }
   },
   "outputs": [
    {
     "name": "stdout",
     "output_type": "stream",
     "text": [
      "Using matplotlib backend: TkAgg\n",
      "Populating the interactive namespace from numpy and matplotlib\n"
     ]
    }
   ],
   "source": [
    "# These are a special \"magic commands\" that gives us access to a most of the \n",
    "# mathematical functions and graphing capabilities we will need. \n",
    "%matplotlib inline\n",
    "%pylab"
   ]
  },
  {
   "cell_type": "markdown",
   "metadata": {
    "slideshow": {
     "slide_type": "slide"
    }
   },
   "source": [
    "<hr style=\"border-width:4px; border-color:coral\"></hr>\n",
    "\n",
    "# Introduction to Jupyter notebooks\n",
    "<hr style=\"border-width:4px; border-color:coral\"></hr>\n",
    "\n",
    "Most of our programming assignments will be done in Jupyter Notebooks.   \n",
    "\n",
    "The name \"Jupyter\" is an mash-up of three common programming languages - **Ju**lia, **Pyt**hon, and **R**.  All three languages can be used in a \"notebook\". \n",
    "\n",
    "What is a notebook?   \n",
    "\n",
    "* A notebook is an interactive platform in which you can enter text (including LaTex), code fragments and plots in a single document. \n",
    "* Notebooks are run through your web browser.  The actual \"behind the scenes code\" for a notebook is human-readable JSON code. \n",
    "* These slides were created using a Jupyter notebook! \n",
    "* This is an example of a \"markdown\" cell.  \n",
    "* This is another cell"
   ]
  },
  {
   "cell_type": "markdown",
   "metadata": {
    "slideshow": {
     "slide_type": "slide"
    }
   },
   "source": [
    "## Why use Python/Jupyter? \n",
    "<hr style=\"border-width:4px; border-color:coral\"></hr>\n",
    "The Jupyter Project (of which Jupyter Notebooks are a part) is an open source project millions of users and contributers worldwide. \n",
    "\n",
    "* **Python** is now the most widely used computing language in data science and machine learning. \n",
    "* **Jupyter Notebooks** allow users to mix narrative text with executable code, equations and visualization to create a living document that supports reproducibility and enables exploratory learning.   "
   ]
  },
  {
   "cell_type": "markdown",
   "metadata": {
    "slideshow": {
     "slide_type": "fragment"
    }
   },
   "source": [
    "## What is a notebook?  \n",
    "\n",
    "A Jupyter notebook (or just a \"notebook\" for this course) is a web-based document (typically hosted locally) that consists text, code, numerical results, plots, hyperlinks, JPEG images and so on. \n",
    "\n",
    "* Notebooks are launched from the command line, and navigated using your web browser.  So all you need to run a notebook is a suitable laptop/desktop, and the Jupyter/Python code base (installations instructions to follow).  \n",
    "\n",
    "Below, we go through some basic ideas in using a notebook. "
   ]
  },
  {
   "cell_type": "markdown",
   "metadata": {
    "slideshow": {
     "slide_type": "slide"
    }
   },
   "source": [
    "## Notebook mechanics : Input cells\n",
    "<hr style=\"border-width:4px; border-color:coral\"></hr>\n",
    "\n",
    "There are two kinds of notebook cells used for input :  \n",
    "\n",
    "* **Markdown** cells contain narrative text and mathematical equations, expressed using LaTex.  \n",
    "    - Markdown is a simple formatting language that allows you to use **bold** face font, *italics*, and inline code fragments like this one `print(\"Hello, world\")`.   \n",
    "    - Equations can be entered using Latex\n",
    "    - Sections can be highlighted to add structure to your documents\n",
    "    - Numbered and bulleted lists can be created\n",
    "    - Hyperlinks can be provided to link to sections within a document, or to external links on the web. \n",
    "    - Include links to  images, videos and so ...\n",
    "    \n",
    "* **Code** cells are used to input executable code. \n",
    "\n",
    "To render text and equations, and to run executable code, hit \"shift-return\" from the cell. \n",
    "\n",
    "The text for this slide is entered into a **Markdown** cell. "
   ]
  },
  {
   "cell_type": "markdown",
   "metadata": {
    "slideshow": {
     "slide_type": "subslide"
    }
   },
   "source": [
    "### Markdown cells\n",
    "\n",
    "This cell is a markdown cell which can be used to enter text and equations, like this one: \n",
    "\n",
    "\\begin{equation*}\n",
    "f(x) = \\frac{\\sin(x)}{x^2 + 1}, \\qquad x \\in \\mathcal R\n",
    "\\end{equation*}\n",
    "\n",
    "Or inline equations $x = 3.5$, $y = f(x)$. \n",
    "\n",
    "Render the text and equations in Markdown cells using \"shift-return\". \n",
    "\n",
    "*Part of this course is learning how to provide narrative text so that others can follow your work.*"
   ]
  },
  {
   "cell_type": "markdown",
   "metadata": {
    "slideshow": {
     "slide_type": "subslide"
    }
   },
   "source": [
    "### Code cells\n",
    "\n",
    "Code cells contain actual code (Python, in our case) and can be executed by hitting \"shift-return\".  \n",
    "\n",
    "Code cells are indicated by `In[XX]`, where `XX` is the counter for the order in which code in cells is executed. This counter upadated each time you execute code code in a cell. \n",
    "\n",
    "The first time you execute your code, the brackets `[]` will be empty. "
   ]
  },
  {
   "cell_type": "code",
   "execution_count": null,
   "metadata": {
    "slideshow": {
     "slide_type": "fragment"
    }
   },
   "outputs": [],
   "source": [
    "# This cell is a \"code\" cell and can be used to enter code.  To run the code, hit \"shift-return\"\n",
    "\n",
    "# Set a variable named 'x' to a value\n",
    "x = 3.5\n",
    "\n",
    "# evaluate the function at the value 'x'\n",
    "y = sin(x)/(x**2 + 1) \n",
    "\n",
    "# Display the value of y\n",
    "y\n"
   ]
  },
  {
   "cell_type": "markdown",
   "metadata": {
    "slideshow": {
     "slide_type": "slide"
    }
   },
   "source": [
    "## Notebook mechanics : Output cells and plots\n",
    "<hr style=\"border-width:4px; border-color:coral\"></hr>\n",
    "\n",
    "We have already seen that that the results of our code fragments above appear in *output* cells, indicated by `Out[XX]`, where the `XX` matches the code cell counter that produces the results.  \n",
    "\n",
    "Another type of output is a plot or graph.  Below, we create a plot of the function we defined above. \n"
   ]
  },
  {
   "cell_type": "markdown",
   "metadata": {
    "slideshow": {
     "slide_type": "slide"
    }
   },
   "source": [
    "###  Plotting y = f(x)\n",
    "\n",
    "To create a plot of our function, we first need to define the domain over which we will plot our function.  Let's plot our function over the interval $x \\in [-2\\pi, 2\\pi]$.  Our new problem is then, \n",
    "\n",
    "\\begin{equation*}\n",
    "f(x) = \\frac{\\sin(x)}{x^2 + 1}, \\qquad x \\in [-2\\pi, 2\\pi]\n",
    "\\end{equation*}"
   ]
  },
  {
   "cell_type": "markdown",
   "metadata": {
    "slideshow": {
     "slide_type": "fragment"
    }
   },
   "source": [
    "To create our plot, we need to do several things : \n",
    "\n",
    "* Create a sequence of values $x_1, x_2, ..., x_i, ... ,x_N$ at which to evaluate our function.  The size of N will determine how smooth our plot is. \n",
    "* Evaluate our function at each term $x_i$ to get a corresponding sequence of values $y_i = f(x_i)$. \n",
    "* Create a smooth graph by \"connecting the dots\" $(x_1,y_1), (x_2, y_2), (x_3, y_3), ..., (x_N,y_N)$ in order that they appear in our sequence. "
   ]
  },
  {
   "cell_type": "code",
   "execution_count": null,
   "metadata": {
    "slideshow": {
     "slide_type": "slide"
    }
   },
   "outputs": [],
   "source": [
    "figure(1)\n",
    "clf()\n",
    "\n",
    "# Create a sequence of 200 x values equally spaced in the interval [-2*pi, 2*pi]\n",
    "N = 200\n",
    "x = linspace(-2*pi, 2*pi,N); \n",
    "\n",
    "# evaluate the function at the sequence of x values\n",
    "y = sin(x)/(x**2 + 1)\n",
    "\n",
    "# \"connect the dots\"\n",
    "plot(x,y)\n",
    "plot(x,y,'k.',markersize=5)"
   ]
  },
  {
   "cell_type": "markdown",
   "metadata": {
    "slideshow": {
     "slide_type": "fragment"
    }
   },
   "source": [
    "We used two specialized commands : \n",
    "* The keyword `pi`,  which is just $\\pi = 3.14159....$. \n",
    "* The use of the command `linspace(a,b,N)` which creates a sequence of $N$ equally spaced points in the inteval $[a,b]$.  \n",
    "\n",
    "* Notice that the plot is interactive.  By moving your mouse in the plot window, the (x,y) values will appear.  We can also use interactive buttons to zoom into the plot, \"pan\", or save the plot to a PNG file. \n",
    "\n",
    "* Notice that as you zoom in, the plot becomes less smooth.  "
   ]
  }
 ],
 "metadata": {
  "celltoolbar": "Slideshow",
  "kernelspec": {
   "display_name": "Python 3",
   "language": "python",
   "name": "python3"
  },
  "language_info": {
   "codemirror_mode": {
    "name": "ipython",
    "version": 3
   },
   "file_extension": ".py",
   "mimetype": "text/x-python",
   "name": "python",
   "nbconvert_exporter": "python",
   "pygments_lexer": "ipython3",
   "version": "3.7.4"
  }
 },
 "nbformat": 4,
 "nbformat_minor": 2
}
