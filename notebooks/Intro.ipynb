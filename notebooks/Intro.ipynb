{
 "cells": [
  {
   "cell_type": "markdown",
   "metadata": {
    "slideshow": {
     "slide_type": "slide"
    }
   },
   "source": [
    "<hr style=\"border-width:4px; border-color:coral\"></hr>\n",
    "\n",
    "# Welcome to Math 265!\n",
    "<hr style=\"border-width:4px; border-color:coral\"></hr>\n",
    "\n",
    "The **goals** for this course are to see familar mathematics translated to a computational setting.\n",
    "\n",
    "Three main goals\n",
    "\n",
    "* View fundamental mathematical ideas from calculus, number theory, statistics from a *computational viewpoint*\n",
    "* Introduce you to basic mechanics of coding (we will use Python), and in particular, how we can translate familar mathematical ideas into useful code. \n",
    "* Give you a taste of what upper-division courses in computational mathemtics look like.  You might discover you like it!\n"
   ]
  },
  {
   "cell_type": "markdown",
   "metadata": {
    "slideshow": {
     "slide_type": "subslide"
    }
   },
   "source": [
    "<hr style=\"border-width:2px; border-color:coral\"></hr>\n",
    "\n",
    "### Some topics in fundamental mathematics we will cover.\n",
    "<hr style=\"border-width:2px; border-color:coral\"></hr>\n",
    "\n",
    "* **Calculus** : \n",
    "  - View elementary ideas from Calculus in new setting :  *variables*, *arithmetic operations*, *functions* and *graphs*\n",
    "  - More advanced ideas : *differention*, *integration*, *sequences*, *series*, *convergence*, *approximation*.\n",
    "\n",
    "* **Number theory** : Elementary ideas about \n",
    "    - prime number distributions, \n",
    "    - rational approximations to real numbers    \n",
    "    \n",
    "* **Statistics** : We will also cover some basic ideas from statistics and data science, including use of Pandas \n",
    "\n",
    "* **Applications** : Along the way, we will also learn some interesting applications of computational mathematics. "
   ]
  },
  {
   "cell_type": "markdown",
   "metadata": {
    "slideshow": {
     "slide_type": "subslide"
    }
   },
   "source": [
    "<hr style=\"border-width:2px; border-color:coral\"></hr>\n",
    "\n",
    "### How to code for mathematical applications.\n",
    "<hr style=\"border-width:2px; border-color:coral\"></hr>\n",
    "\n",
    "This is not a programming course.  But don't be disappointed.  You will learn how to program (if you don't already know).\n",
    "\n",
    "* We will use Python in this course.  Learning Python, however, is not the focus of this course.  \n",
    "* Idea is to counter what we (instructors) commonly hear from students : \"I get the math\" ... \"but I have no idea how to code the math\".  \n",
    "* We focus in this course on programming style, and less on efficiency, performance, numerical methods or software engineering (these ideas are covered in later courses).  \n",
    "* *This course is designed to replace the previous CS 117/119/121 requirement for all mathematics majors*."
   ]
  },
  {
   "cell_type": "markdown",
   "metadata": {
    "slideshow": {
     "slide_type": "subslide"
    }
   },
   "source": [
    "<hr style=\"border-width:2px; border-color:coral\"></hr>\n",
    "\n",
    "### More to come : Upper division computational  courses\n",
    "<hr style=\"border-width:2px; border-color:coral\"></hr>\n",
    "\n",
    "Math 265 is the first in a sequence of courses in computational mathematics. \n",
    "* **Math 265** (this course).  This course serves an introduction to how to think about mathematics *computationally*. \n",
    "* **Math 365**.  Introduction to Scientific Computing using Matlab.    Vectorization is emphasized, along with some elementary ideas about efficiency, and various software packages, and lots of applications from science and engineering\n",
    "* **Math 465/565**. Introduction to Numerical Methods.  This course is the first introduction to the theory and analysis behind numerical methods.\n",
    "* **ME/COMPUT 471/571**.  This introduces you to parallel computing using MPI, CUDA, OpenMP.  Focus is on parallel computing patterns used in computational mathematics, science and engineering.  "
   ]
  },
  {
   "cell_type": "markdown",
   "metadata": {
    "slideshow": {
     "slide_type": "slide"
    }
   },
   "source": [
    "<hr style=\"border-width:4px; border-color:coral\"></hr>\n",
    "\n",
    "# What you will learn in this course.\n",
    "<hr style=\"border-width:4px; border-color:coral\"></hr>\n",
    "\n",
    "* You will learn basic Python programming.  How much you go beyond the basics is up to you. \n",
    "* Programming style, especially when it comes to using syntax and notation commonly used in mathematics. \n",
    "* Look at a mathematical statement and learn what can be done computationally with that idea. \n",
    "* How to present your work clearly and convincingly. \n",
    "* Improve your LaTex skills. \n",
    "* How to ask technical questions (beyond \"It doesn't work ...\") and where to go for help when  you are stuck. \n",
    "* How to know when you are stuck and how *not* to spend hours on a homework assignment."
   ]
  },
  {
   "cell_type": "markdown",
   "metadata": {
    "slideshow": {
     "slide_type": "slide"
    }
   },
   "source": [
    "<hr style=\"border-width:3px; border-color:coral\"></hr>\n",
    "\n",
    "## Course details\n",
    "<hr style=\"border-width:3px; border-color:coral\"></hr>\n",
    "\n",
    "\n",
    "* **BlackBoard**. Assignments, announcements, lecture material \n",
    "* **Slack site**.  We will have a Slack site for general discussion, questions.  *A link to a Slack invitation is posted on the Blackboard site*. \n",
    "* **Office hours**. Wednesday 3-4PM (after this class), via Zoom. \n",
    "* **Learning Assistant**. **Antone Chacartegui** (Applied Math Major), will be our learning assistant.  \n",
    "* **Course website**. [http://www.forestclaw.org/teaching/Math265_Spring2021](http://www.forestclaw.org/teaching/Math265_Spring2021)     \n",
    "    *This site may or may not be kept up to date.*\n"
   ]
  },
  {
   "cell_type": "markdown",
   "metadata": {
    "slideshow": {
     "slide_type": "slide"
    }
   },
   "source": [
    "<hr style=\"border-width:3px; border-color:coral\"></hr>\n",
    "\n",
    "\n",
    "## Textbook, computer\n",
    "<hr style=\"border-width:3px; border-color:coral\"></hr>\n",
    "\n",
    "* There is **no required textbook**.  But I will make available links to websites on Python tutorials and other material to get you started. \n",
    "* All of our work will be done in **Jupyter Notebooks** (more on this later). \n",
    "* You will need access to a **laptop** or **desktop** you can use for computations.  You will be asked to download *Anaconda Python*, an open source package containing all the available Python libraries we will need. \n",
    "* You will also need a **Latex** installation.  This is also available in open source libraries. "
   ]
  },
  {
   "cell_type": "markdown",
   "metadata": {
    "slideshow": {
     "slide_type": "slide"
    }
   },
   "source": [
    "<hr style=\"border-width:3px; border-color:coral\"></hr>\n",
    "\n",
    "## Expectations and grading\n",
    "<hr style=\"border-width:3px; border-color:coral\"></hr>\n",
    "\n",
    "* I will aim for short, weekly homework assignments\n",
    "* You all start with an A.  \n",
    "     - Turn in all assignments, and do a reasonable job, and there is a good chance you can keep that A. \n",
    "     - How to lose the A?  Fail to turn in one or more assignments, or worse, turn in problems that are identical to other students work.\n",
    "* We will have short quizzes to test how well you are able to translate math to code.  \n",
    "* In lieu of a final, we will have a final project. "
   ]
  }
 ],
 "metadata": {
  "celltoolbar": "Slideshow",
  "kernelspec": {
   "display_name": "Python 3",
   "language": "python",
   "name": "python3"
  },
  "language_info": {
   "codemirror_mode": {
    "name": "ipython",
    "version": 3
   },
   "file_extension": ".py",
   "mimetype": "text/x-python",
   "name": "python",
   "nbconvert_exporter": "python",
   "pygments_lexer": "ipython3",
   "version": "3.7.4"
  }
 },
 "nbformat": 4,
 "nbformat_minor": 2
}
